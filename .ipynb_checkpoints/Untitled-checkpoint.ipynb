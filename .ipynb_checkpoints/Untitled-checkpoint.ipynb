{
 "cells": [
  {
   "cell_type": "code",
   "execution_count": 75,
   "id": "whole-powder",
   "metadata": {},
   "outputs": [],
   "source": [
    "from z3 import Int, Bool, Ints, Bools, Solver, Or, Not, And, BV2Int, BitVecs, BitVecVal, BitVec, Concat, Extract, IntVal\n",
    "from typing import List"
   ]
  },
  {
   "cell_type": "code",
   "execution_count": 8,
   "id": "suffering-miller",
   "metadata": {},
   "outputs": [
    {
     "ename": "IndentationError",
     "evalue": "expected an indented block (3226794982.py, line 4)",
     "output_type": "error",
     "traceback": [
      "\u001b[0;36m  Input \u001b[0;32mIn [8]\u001b[0;36m\u001b[0m\n\u001b[0;31m    for i in range(max_complexity):\u001b[0m\n\u001b[0m                                   ^\u001b[0m\n\u001b[0;31mIndentationError\u001b[0m\u001b[0;31m:\u001b[0m expected an indented block\n"
     ]
    }
   ],
   "source": []
  },
  {
   "cell_type": "code",
   "execution_count": null,
   "id": "figured-eugene",
   "metadata": {},
   "outputs": [],
   "source": [
    "## Useful stuff from intel_altera\n",
    "def vector_to_int(vector):\n",
    "    result = 0\n",
    "    for i, x in enumerate(vector):\n",
    "        result += x * (2 ** i)\n",
    "    return result\n",
    "\n",
    "\n",
    "def int_to_vector(x, vector_dim):\n",
    "    result = []\n",
    "    for _ in range(vector_dim):\n",
    "        result.append(x & 1)\n",
    "        x >>= 1\n",
    "    return result"
   ]
  },
  {
   "cell_type": "code",
   "execution_count": 19,
   "id": "helpful-clock",
   "metadata": {},
   "outputs": [],
   "source": [
    "## Important cell do not remove\n",
    "\n",
    "def bool2int(x: bool) -> int:\n",
    "    return x # 1 if x else 0\n",
    "\n",
    "\n",
    "def bitvec2int(bitvec: List[bool]) -> int:\n",
    "    result = 0\n",
    "    for i, xi in enumerate(bitvec):\n",
    "        xi = bool2int(xi)\n",
    "        result += xi * (2 ** i)\n",
    "    return result\n",
    "\n",
    "\n",
    "def int2bitvec(i: int) -> List[bool]:\n",
    "    result = []\n",
    "    while i > 0:\n",
    "        result.append(i & 1)\n",
    "        i >>= 1\n",
    "    return result\n",
    "\n",
    "\n",
    "\"\"\"\n",
    "f - битовый вектор длины 2 ** n\n",
    "x - битовый вектор длины n\n",
    "\"\"\"\n",
    "def evaluate_fun(f: List[bool], x: List[bool]) -> bool:\n",
    "    n = len(x)\n",
    "    if (len(f) != 2 ** n):\n",
    "        raise Exception(\"Bad arguments\")\n",
    "    x = bitvec2int(x)\n",
    "    return f[x]\n",
    "\n",
    "def z3_evaluate_fun(f, x):\n",
    "    return f[BV2Int(x)]"
   ]
  },
  {
   "cell_type": "code",
   "execution_count": 89,
   "id": "dimensional-mapping",
   "metadata": {},
   "outputs": [],
   "source": [
    "def right_inclusive_range(start, end):\n",
    "    return range(start + 1, end + 1)\n",
    "\n",
    "def create_bitvec(name, bitlength):\n",
    "    global_vars[name] = BitVec(name, bitlength)\n",
    "    \n",
    "def create_int(name):\n",
    "    global_vars[name] = Int(name)\n",
    "    \n",
    "def add_assert(assertt):\n",
    "    global_asserts.append(assertt)"
   ]
  },
  {
   "cell_type": "code",
   "execution_count": 90,
   "id": "finnish-guatemala",
   "metadata": {},
   "outputs": [
    {
     "ename": "TypeError",
     "evalue": "unsupported operand type(s) for |: 'str' and 'str'",
     "output_type": "error",
     "traceback": [
      "\u001b[0;31m---------------------------------------------------------------------------\u001b[0m",
      "\u001b[0;31mTypeError\u001b[0m                                 Traceback (most recent call last)",
      "Input \u001b[0;32mIn [90]\u001b[0m, in \u001b[0;36m<cell line: 37>\u001b[0;34m()\u001b[0m\n\u001b[1;32m     41\u001b[0m a2 \u001b[38;5;241m=\u001b[39m \u001b[38;5;124mf\u001b[39m\u001b[38;5;124m'\u001b[39m\u001b[38;5;124mgate_input_value_\u001b[39m\u001b[38;5;132;01m{\u001b[39;00mf_input_value\u001b[38;5;132;01m}\u001b[39;00m\u001b[38;5;124m_\u001b[39m\u001b[38;5;132;01m{\u001b[39;00mgate\u001b[38;5;132;01m}\u001b[39;00m\u001b[38;5;124m_2\u001b[39m\u001b[38;5;124m'\u001b[39m\n\u001b[1;32m     42\u001b[0m a3 \u001b[38;5;241m=\u001b[39m \u001b[38;5;124mf\u001b[39m\u001b[38;5;124m'\u001b[39m\u001b[38;5;124mgate_input_value_\u001b[39m\u001b[38;5;132;01m{\u001b[39;00mf_input_value\u001b[38;5;132;01m}\u001b[39;00m\u001b[38;5;124m_\u001b[39m\u001b[38;5;132;01m{\u001b[39;00mgate\u001b[38;5;132;01m}\u001b[39;00m\u001b[38;5;124m_3\u001b[39m\u001b[38;5;124m'\u001b[39m\n\u001b[0;32m---> 43\u001b[0m add_assert((\u001b[43ma1\u001b[49m\u001b[43m \u001b[49m\u001b[38;5;241;43m|\u001b[39;49m\u001b[43m \u001b[49m\u001b[43ma2\u001b[49m) \u001b[38;5;241m^\u001b[39m (a1 \u001b[38;5;241m|\u001b[39m a3) \u001b[38;5;241m^\u001b[39m (a2 \u001b[38;5;241m|\u001b[39m a3))\n",
      "\u001b[0;31mTypeError\u001b[0m: unsupported operand type(s) for |: 'str' and 'str'"
     ]
    }
   ],
   "source": [
    "max_complexity = 5\n",
    "\n",
    "global_vars = {}\n",
    "global_asserts = []\n",
    "\n",
    "# majority function\n",
    "majority_bitvector = 0x15\n",
    "\n",
    "\n",
    "# gate function\n",
    "gate_bitvector = majority_bitvector\n",
    "gate_bitlength = gate_bitvector.bit_length()   # 8\n",
    "gate_input_width = gate_bitlength.bit_length() # 3\n",
    "\n",
    "global_vars['gate'] = BitVec('gate', gate_bitlength)\n",
    "global_vars['gate_value'] = BitVecVal(gate_bitvector, gate_bitlength)\n",
    "\n",
    "\n",
    "# synthesized function\n",
    "f_bitvector = 0xffff\n",
    "f_bitlength = f_bitvector.bit_length()   # 16\n",
    "f_input_width = f_bitlength.bit_length() # 4\n",
    "\n",
    "global_vars['f'] = BitVec('f', f_bitlength)\n",
    "global_vars['f_value'] = BitVecVal(f_bitvector, f_bitlength)\n",
    "\n",
    "for gate in right_inclusive_range(n, n + max_complexity):\n",
    "    for gate_input in range(gate_input_width):\n",
    "        create_bitvec(f'gate_input_polarity_{gate}_{gate_input}', 1)\n",
    "        create_int(f'gate_input_number_{gate}_{gate_input}')\n",
    "        \n",
    "    for f_input_value in range(f_bitlength):\n",
    "        create_bitvec(f'gate_output_value_{f_input_value}_{gate}', 1)\n",
    "        for gate_input in range(gate_input_width):\n",
    "            create_bitvec(f'gate_input_value_{f_input_value}_{gate}_{gate_input}', 1)\n",
    "        \n",
    "for gate in right_inclusive_range(n, n + max_complexity):\n",
    "    for f_input_value in range(f_bitlength):\n",
    "        # TODO: generalize\n",
    "        a1 = global_vars[f'gate_input_value_{f_input_value}_{gate}_1']\n",
    "        a2 = global_vars[f'gate_input_value_{f_input_value}_{gate}_2']\n",
    "        a3 = global_vars[f'gate_input_value_{f_input_value}_{gate}_3']\n",
    "        add_assert((a1 | a2) ^ (a1 | a3) ^ (a2 | a3))\n",
    "        "
   ]
  },
  {
   "cell_type": "code",
   "execution_count": 55,
   "id": "arbitrary-argument",
   "metadata": {},
   "outputs": [
    {
     "data": {
      "text/plain": [
       "{'gate': gate,\n",
       " 'gate_value': 21,\n",
       " 'f': f,\n",
       " 'f_value': 65535,\n",
       " 'gate_input_polarity_6_0': gate_input_polarity_6_0,\n",
       " 'gate_input_number_6_0': gate_input_number_6_0,\n",
       " 'gate_input_polarity_6_1': gate_input_polarity_6_1,\n",
       " 'gate_input_number_6_1': gate_input_number_6_1,\n",
       " 'gate_input_polarity_6_2': gate_input_polarity_6_2,\n",
       " 'gate_input_number_6_2': gate_input_number_6_2,\n",
       " 'gate_input_value_0_6_0': gate_input_value_0_6_0,\n",
       " 'gate_input_value_0_6_1': gate_input_value_0_6_1,\n",
       " 'gate_input_value_0_6_2': gate_input_value_0_6_2,\n",
       " 'gate_output_value_0_6': gate_output_value_0_6,\n",
       " 'gate_input_value_1_6_0': gate_input_value_1_6_0,\n",
       " 'gate_input_value_1_6_1': gate_input_value_1_6_1,\n",
       " 'gate_input_value_1_6_2': gate_input_value_1_6_2,\n",
       " 'gate_output_value_1_6': gate_output_value_1_6,\n",
       " 'gate_input_value_2_6_0': gate_input_value_2_6_0,\n",
       " 'gate_input_value_2_6_1': gate_input_value_2_6_1,\n",
       " 'gate_input_value_2_6_2': gate_input_value_2_6_2,\n",
       " 'gate_output_value_2_6': gate_output_value_2_6,\n",
       " 'gate_input_value_3_6_0': gate_input_value_3_6_0,\n",
       " 'gate_input_value_3_6_1': gate_input_value_3_6_1,\n",
       " 'gate_input_value_3_6_2': gate_input_value_3_6_2,\n",
       " 'gate_output_value_3_6': gate_output_value_3_6,\n",
       " 'gate_input_value_4_6_0': gate_input_value_4_6_0,\n",
       " 'gate_input_value_4_6_1': gate_input_value_4_6_1,\n",
       " 'gate_input_value_4_6_2': gate_input_value_4_6_2,\n",
       " 'gate_output_value_4_6': gate_output_value_4_6,\n",
       " 'gate_input_value_5_6_0': gate_input_value_5_6_0,\n",
       " 'gate_input_value_5_6_1': gate_input_value_5_6_1,\n",
       " 'gate_input_value_5_6_2': gate_input_value_5_6_2,\n",
       " 'gate_output_value_5_6': gate_output_value_5_6,\n",
       " 'gate_input_value_6_6_0': gate_input_value_6_6_0,\n",
       " 'gate_input_value_6_6_1': gate_input_value_6_6_1,\n",
       " 'gate_input_value_6_6_2': gate_input_value_6_6_2,\n",
       " 'gate_output_value_6_6': gate_output_value_6_6,\n",
       " 'gate_input_value_7_6_0': gate_input_value_7_6_0,\n",
       " 'gate_input_value_7_6_1': gate_input_value_7_6_1,\n",
       " 'gate_input_value_7_6_2': gate_input_value_7_6_2,\n",
       " 'gate_output_value_7_6': gate_output_value_7_6,\n",
       " 'gate_input_value_8_6_0': gate_input_value_8_6_0,\n",
       " 'gate_input_value_8_6_1': gate_input_value_8_6_1,\n",
       " 'gate_input_value_8_6_2': gate_input_value_8_6_2,\n",
       " 'gate_output_value_8_6': gate_output_value_8_6,\n",
       " 'gate_input_value_9_6_0': gate_input_value_9_6_0,\n",
       " 'gate_input_value_9_6_1': gate_input_value_9_6_1,\n",
       " 'gate_input_value_9_6_2': gate_input_value_9_6_2,\n",
       " 'gate_output_value_9_6': gate_output_value_9_6,\n",
       " 'gate_input_value_10_6_0': gate_input_value_10_6_0,\n",
       " 'gate_input_value_10_6_1': gate_input_value_10_6_1,\n",
       " 'gate_input_value_10_6_2': gate_input_value_10_6_2,\n",
       " 'gate_output_value_10_6': gate_output_value_10_6,\n",
       " 'gate_input_value_11_6_0': gate_input_value_11_6_0,\n",
       " 'gate_input_value_11_6_1': gate_input_value_11_6_1,\n",
       " 'gate_input_value_11_6_2': gate_input_value_11_6_2,\n",
       " 'gate_output_value_11_6': gate_output_value_11_6,\n",
       " 'gate_input_value_12_6_0': gate_input_value_12_6_0,\n",
       " 'gate_input_value_12_6_1': gate_input_value_12_6_1,\n",
       " 'gate_input_value_12_6_2': gate_input_value_12_6_2,\n",
       " 'gate_output_value_12_6': gate_output_value_12_6,\n",
       " 'gate_input_value_13_6_0': gate_input_value_13_6_0,\n",
       " 'gate_input_value_13_6_1': gate_input_value_13_6_1,\n",
       " 'gate_input_value_13_6_2': gate_input_value_13_6_2,\n",
       " 'gate_output_value_13_6': gate_output_value_13_6,\n",
       " 'gate_input_value_14_6_0': gate_input_value_14_6_0,\n",
       " 'gate_input_value_14_6_1': gate_input_value_14_6_1,\n",
       " 'gate_input_value_14_6_2': gate_input_value_14_6_2,\n",
       " 'gate_output_value_14_6': gate_output_value_14_6,\n",
       " 'gate_input_value_15_6_0': gate_input_value_15_6_0,\n",
       " 'gate_input_value_15_6_1': gate_input_value_15_6_1,\n",
       " 'gate_input_value_15_6_2': gate_input_value_15_6_2,\n",
       " 'gate_output_value_15_6': gate_output_value_15_6,\n",
       " 'gate_input_polarity_7_0': gate_input_polarity_7_0,\n",
       " 'gate_input_number_7_0': gate_input_number_7_0,\n",
       " 'gate_input_polarity_7_1': gate_input_polarity_7_1,\n",
       " 'gate_input_number_7_1': gate_input_number_7_1,\n",
       " 'gate_input_polarity_7_2': gate_input_polarity_7_2,\n",
       " 'gate_input_number_7_2': gate_input_number_7_2,\n",
       " 'gate_input_value_0_7_0': gate_input_value_0_7_0,\n",
       " 'gate_input_value_0_7_1': gate_input_value_0_7_1,\n",
       " 'gate_input_value_0_7_2': gate_input_value_0_7_2,\n",
       " 'gate_output_value_0_7': gate_output_value_0_7,\n",
       " 'gate_input_value_1_7_0': gate_input_value_1_7_0,\n",
       " 'gate_input_value_1_7_1': gate_input_value_1_7_1,\n",
       " 'gate_input_value_1_7_2': gate_input_value_1_7_2,\n",
       " 'gate_output_value_1_7': gate_output_value_1_7,\n",
       " 'gate_input_value_2_7_0': gate_input_value_2_7_0,\n",
       " 'gate_input_value_2_7_1': gate_input_value_2_7_1,\n",
       " 'gate_input_value_2_7_2': gate_input_value_2_7_2,\n",
       " 'gate_output_value_2_7': gate_output_value_2_7,\n",
       " 'gate_input_value_3_7_0': gate_input_value_3_7_0,\n",
       " 'gate_input_value_3_7_1': gate_input_value_3_7_1,\n",
       " 'gate_input_value_3_7_2': gate_input_value_3_7_2,\n",
       " 'gate_output_value_3_7': gate_output_value_3_7,\n",
       " 'gate_input_value_4_7_0': gate_input_value_4_7_0,\n",
       " 'gate_input_value_4_7_1': gate_input_value_4_7_1,\n",
       " 'gate_input_value_4_7_2': gate_input_value_4_7_2,\n",
       " 'gate_output_value_4_7': gate_output_value_4_7,\n",
       " 'gate_input_value_5_7_0': gate_input_value_5_7_0,\n",
       " 'gate_input_value_5_7_1': gate_input_value_5_7_1,\n",
       " 'gate_input_value_5_7_2': gate_input_value_5_7_2,\n",
       " 'gate_output_value_5_7': gate_output_value_5_7,\n",
       " 'gate_input_value_6_7_0': gate_input_value_6_7_0,\n",
       " 'gate_input_value_6_7_1': gate_input_value_6_7_1,\n",
       " 'gate_input_value_6_7_2': gate_input_value_6_7_2,\n",
       " 'gate_output_value_6_7': gate_output_value_6_7,\n",
       " 'gate_input_value_7_7_0': gate_input_value_7_7_0,\n",
       " 'gate_input_value_7_7_1': gate_input_value_7_7_1,\n",
       " 'gate_input_value_7_7_2': gate_input_value_7_7_2,\n",
       " 'gate_output_value_7_7': gate_output_value_7_7,\n",
       " 'gate_input_value_8_7_0': gate_input_value_8_7_0,\n",
       " 'gate_input_value_8_7_1': gate_input_value_8_7_1,\n",
       " 'gate_input_value_8_7_2': gate_input_value_8_7_2,\n",
       " 'gate_output_value_8_7': gate_output_value_8_7,\n",
       " 'gate_input_value_9_7_0': gate_input_value_9_7_0,\n",
       " 'gate_input_value_9_7_1': gate_input_value_9_7_1,\n",
       " 'gate_input_value_9_7_2': gate_input_value_9_7_2,\n",
       " 'gate_output_value_9_7': gate_output_value_9_7,\n",
       " 'gate_input_value_10_7_0': gate_input_value_10_7_0,\n",
       " 'gate_input_value_10_7_1': gate_input_value_10_7_1,\n",
       " 'gate_input_value_10_7_2': gate_input_value_10_7_2,\n",
       " 'gate_output_value_10_7': gate_output_value_10_7,\n",
       " 'gate_input_value_11_7_0': gate_input_value_11_7_0,\n",
       " 'gate_input_value_11_7_1': gate_input_value_11_7_1,\n",
       " 'gate_input_value_11_7_2': gate_input_value_11_7_2,\n",
       " 'gate_output_value_11_7': gate_output_value_11_7,\n",
       " 'gate_input_value_12_7_0': gate_input_value_12_7_0,\n",
       " 'gate_input_value_12_7_1': gate_input_value_12_7_1,\n",
       " 'gate_input_value_12_7_2': gate_input_value_12_7_2,\n",
       " 'gate_output_value_12_7': gate_output_value_12_7,\n",
       " 'gate_input_value_13_7_0': gate_input_value_13_7_0,\n",
       " 'gate_input_value_13_7_1': gate_input_value_13_7_1,\n",
       " 'gate_input_value_13_7_2': gate_input_value_13_7_2,\n",
       " 'gate_output_value_13_7': gate_output_value_13_7,\n",
       " 'gate_input_value_14_7_0': gate_input_value_14_7_0,\n",
       " 'gate_input_value_14_7_1': gate_input_value_14_7_1,\n",
       " 'gate_input_value_14_7_2': gate_input_value_14_7_2,\n",
       " 'gate_output_value_14_7': gate_output_value_14_7,\n",
       " 'gate_input_value_15_7_0': gate_input_value_15_7_0,\n",
       " 'gate_input_value_15_7_1': gate_input_value_15_7_1,\n",
       " 'gate_input_value_15_7_2': gate_input_value_15_7_2,\n",
       " 'gate_output_value_15_7': gate_output_value_15_7,\n",
       " 'gate_input_polarity_8_0': gate_input_polarity_8_0,\n",
       " 'gate_input_number_8_0': gate_input_number_8_0,\n",
       " 'gate_input_polarity_8_1': gate_input_polarity_8_1,\n",
       " 'gate_input_number_8_1': gate_input_number_8_1,\n",
       " 'gate_input_polarity_8_2': gate_input_polarity_8_2,\n",
       " 'gate_input_number_8_2': gate_input_number_8_2,\n",
       " 'gate_input_value_0_8_0': gate_input_value_0_8_0,\n",
       " 'gate_input_value_0_8_1': gate_input_value_0_8_1,\n",
       " 'gate_input_value_0_8_2': gate_input_value_0_8_2,\n",
       " 'gate_output_value_0_8': gate_output_value_0_8,\n",
       " 'gate_input_value_1_8_0': gate_input_value_1_8_0,\n",
       " 'gate_input_value_1_8_1': gate_input_value_1_8_1,\n",
       " 'gate_input_value_1_8_2': gate_input_value_1_8_2,\n",
       " 'gate_output_value_1_8': gate_output_value_1_8,\n",
       " 'gate_input_value_2_8_0': gate_input_value_2_8_0,\n",
       " 'gate_input_value_2_8_1': gate_input_value_2_8_1,\n",
       " 'gate_input_value_2_8_2': gate_input_value_2_8_2,\n",
       " 'gate_output_value_2_8': gate_output_value_2_8,\n",
       " 'gate_input_value_3_8_0': gate_input_value_3_8_0,\n",
       " 'gate_input_value_3_8_1': gate_input_value_3_8_1,\n",
       " 'gate_input_value_3_8_2': gate_input_value_3_8_2,\n",
       " 'gate_output_value_3_8': gate_output_value_3_8,\n",
       " 'gate_input_value_4_8_0': gate_input_value_4_8_0,\n",
       " 'gate_input_value_4_8_1': gate_input_value_4_8_1,\n",
       " 'gate_input_value_4_8_2': gate_input_value_4_8_2,\n",
       " 'gate_output_value_4_8': gate_output_value_4_8,\n",
       " 'gate_input_value_5_8_0': gate_input_value_5_8_0,\n",
       " 'gate_input_value_5_8_1': gate_input_value_5_8_1,\n",
       " 'gate_input_value_5_8_2': gate_input_value_5_8_2,\n",
       " 'gate_output_value_5_8': gate_output_value_5_8,\n",
       " 'gate_input_value_6_8_0': gate_input_value_6_8_0,\n",
       " 'gate_input_value_6_8_1': gate_input_value_6_8_1,\n",
       " 'gate_input_value_6_8_2': gate_input_value_6_8_2,\n",
       " 'gate_output_value_6_8': gate_output_value_6_8,\n",
       " 'gate_input_value_7_8_0': gate_input_value_7_8_0,\n",
       " 'gate_input_value_7_8_1': gate_input_value_7_8_1,\n",
       " 'gate_input_value_7_8_2': gate_input_value_7_8_2,\n",
       " 'gate_output_value_7_8': gate_output_value_7_8,\n",
       " 'gate_input_value_8_8_0': gate_input_value_8_8_0,\n",
       " 'gate_input_value_8_8_1': gate_input_value_8_8_1,\n",
       " 'gate_input_value_8_8_2': gate_input_value_8_8_2,\n",
       " 'gate_output_value_8_8': gate_output_value_8_8,\n",
       " 'gate_input_value_9_8_0': gate_input_value_9_8_0,\n",
       " 'gate_input_value_9_8_1': gate_input_value_9_8_1,\n",
       " 'gate_input_value_9_8_2': gate_input_value_9_8_2,\n",
       " 'gate_output_value_9_8': gate_output_value_9_8,\n",
       " 'gate_input_value_10_8_0': gate_input_value_10_8_0,\n",
       " 'gate_input_value_10_8_1': gate_input_value_10_8_1,\n",
       " 'gate_input_value_10_8_2': gate_input_value_10_8_2,\n",
       " 'gate_output_value_10_8': gate_output_value_10_8,\n",
       " 'gate_input_value_11_8_0': gate_input_value_11_8_0,\n",
       " 'gate_input_value_11_8_1': gate_input_value_11_8_1,\n",
       " 'gate_input_value_11_8_2': gate_input_value_11_8_2,\n",
       " 'gate_output_value_11_8': gate_output_value_11_8,\n",
       " 'gate_input_value_12_8_0': gate_input_value_12_8_0,\n",
       " 'gate_input_value_12_8_1': gate_input_value_12_8_1,\n",
       " 'gate_input_value_12_8_2': gate_input_value_12_8_2,\n",
       " 'gate_output_value_12_8': gate_output_value_12_8,\n",
       " 'gate_input_value_13_8_0': gate_input_value_13_8_0,\n",
       " 'gate_input_value_13_8_1': gate_input_value_13_8_1,\n",
       " 'gate_input_value_13_8_2': gate_input_value_13_8_2,\n",
       " 'gate_output_value_13_8': gate_output_value_13_8,\n",
       " 'gate_input_value_14_8_0': gate_input_value_14_8_0,\n",
       " 'gate_input_value_14_8_1': gate_input_value_14_8_1,\n",
       " 'gate_input_value_14_8_2': gate_input_value_14_8_2,\n",
       " 'gate_output_value_14_8': gate_output_value_14_8,\n",
       " 'gate_input_value_15_8_0': gate_input_value_15_8_0,\n",
       " 'gate_input_value_15_8_1': gate_input_value_15_8_1,\n",
       " 'gate_input_value_15_8_2': gate_input_value_15_8_2,\n",
       " 'gate_output_value_15_8': gate_output_value_15_8,\n",
       " 'gate_input_polarity_9_0': gate_input_polarity_9_0,\n",
       " 'gate_input_number_9_0': gate_input_number_9_0,\n",
       " 'gate_input_polarity_9_1': gate_input_polarity_9_1,\n",
       " 'gate_input_number_9_1': gate_input_number_9_1,\n",
       " 'gate_input_polarity_9_2': gate_input_polarity_9_2,\n",
       " 'gate_input_number_9_2': gate_input_number_9_2,\n",
       " 'gate_input_value_0_9_0': gate_input_value_0_9_0,\n",
       " 'gate_input_value_0_9_1': gate_input_value_0_9_1,\n",
       " 'gate_input_value_0_9_2': gate_input_value_0_9_2,\n",
       " 'gate_output_value_0_9': gate_output_value_0_9,\n",
       " 'gate_input_value_1_9_0': gate_input_value_1_9_0,\n",
       " 'gate_input_value_1_9_1': gate_input_value_1_9_1,\n",
       " 'gate_input_value_1_9_2': gate_input_value_1_9_2,\n",
       " 'gate_output_value_1_9': gate_output_value_1_9,\n",
       " 'gate_input_value_2_9_0': gate_input_value_2_9_0,\n",
       " 'gate_input_value_2_9_1': gate_input_value_2_9_1,\n",
       " 'gate_input_value_2_9_2': gate_input_value_2_9_2,\n",
       " 'gate_output_value_2_9': gate_output_value_2_9,\n",
       " 'gate_input_value_3_9_0': gate_input_value_3_9_0,\n",
       " 'gate_input_value_3_9_1': gate_input_value_3_9_1,\n",
       " 'gate_input_value_3_9_2': gate_input_value_3_9_2,\n",
       " 'gate_output_value_3_9': gate_output_value_3_9,\n",
       " 'gate_input_value_4_9_0': gate_input_value_4_9_0,\n",
       " 'gate_input_value_4_9_1': gate_input_value_4_9_1,\n",
       " 'gate_input_value_4_9_2': gate_input_value_4_9_2,\n",
       " 'gate_output_value_4_9': gate_output_value_4_9,\n",
       " 'gate_input_value_5_9_0': gate_input_value_5_9_0,\n",
       " 'gate_input_value_5_9_1': gate_input_value_5_9_1,\n",
       " 'gate_input_value_5_9_2': gate_input_value_5_9_2,\n",
       " 'gate_output_value_5_9': gate_output_value_5_9,\n",
       " 'gate_input_value_6_9_0': gate_input_value_6_9_0,\n",
       " 'gate_input_value_6_9_1': gate_input_value_6_9_1,\n",
       " 'gate_input_value_6_9_2': gate_input_value_6_9_2,\n",
       " 'gate_output_value_6_9': gate_output_value_6_9,\n",
       " 'gate_input_value_7_9_0': gate_input_value_7_9_0,\n",
       " 'gate_input_value_7_9_1': gate_input_value_7_9_1,\n",
       " 'gate_input_value_7_9_2': gate_input_value_7_9_2,\n",
       " 'gate_output_value_7_9': gate_output_value_7_9,\n",
       " 'gate_input_value_8_9_0': gate_input_value_8_9_0,\n",
       " 'gate_input_value_8_9_1': gate_input_value_8_9_1,\n",
       " 'gate_input_value_8_9_2': gate_input_value_8_9_2,\n",
       " 'gate_output_value_8_9': gate_output_value_8_9,\n",
       " 'gate_input_value_9_9_0': gate_input_value_9_9_0,\n",
       " 'gate_input_value_9_9_1': gate_input_value_9_9_1,\n",
       " 'gate_input_value_9_9_2': gate_input_value_9_9_2,\n",
       " 'gate_output_value_9_9': gate_output_value_9_9,\n",
       " 'gate_input_value_10_9_0': gate_input_value_10_9_0,\n",
       " 'gate_input_value_10_9_1': gate_input_value_10_9_1,\n",
       " 'gate_input_value_10_9_2': gate_input_value_10_9_2,\n",
       " 'gate_output_value_10_9': gate_output_value_10_9,\n",
       " 'gate_input_value_11_9_0': gate_input_value_11_9_0,\n",
       " 'gate_input_value_11_9_1': gate_input_value_11_9_1,\n",
       " 'gate_input_value_11_9_2': gate_input_value_11_9_2,\n",
       " 'gate_output_value_11_9': gate_output_value_11_9,\n",
       " 'gate_input_value_12_9_0': gate_input_value_12_9_0,\n",
       " 'gate_input_value_12_9_1': gate_input_value_12_9_1,\n",
       " 'gate_input_value_12_9_2': gate_input_value_12_9_2,\n",
       " 'gate_output_value_12_9': gate_output_value_12_9,\n",
       " 'gate_input_value_13_9_0': gate_input_value_13_9_0,\n",
       " 'gate_input_value_13_9_1': gate_input_value_13_9_1,\n",
       " 'gate_input_value_13_9_2': gate_input_value_13_9_2,\n",
       " 'gate_output_value_13_9': gate_output_value_13_9,\n",
       " 'gate_input_value_14_9_0': gate_input_value_14_9_0,\n",
       " 'gate_input_value_14_9_1': gate_input_value_14_9_1,\n",
       " 'gate_input_value_14_9_2': gate_input_value_14_9_2,\n",
       " 'gate_output_value_14_9': gate_output_value_14_9,\n",
       " 'gate_input_value_15_9_0': gate_input_value_15_9_0,\n",
       " 'gate_input_value_15_9_1': gate_input_value_15_9_1,\n",
       " 'gate_input_value_15_9_2': gate_input_value_15_9_2,\n",
       " 'gate_output_value_15_9': gate_output_value_15_9,\n",
       " 'gate_input_polarity_10_0': gate_input_polarity_10_0,\n",
       " 'gate_input_number_10_0': gate_input_number_10_0,\n",
       " 'gate_input_polarity_10_1': gate_input_polarity_10_1,\n",
       " 'gate_input_number_10_1': gate_input_number_10_1,\n",
       " 'gate_input_polarity_10_2': gate_input_polarity_10_2,\n",
       " 'gate_input_number_10_2': gate_input_number_10_2,\n",
       " 'gate_input_value_0_10_0': gate_input_value_0_10_0,\n",
       " 'gate_input_value_0_10_1': gate_input_value_0_10_1,\n",
       " 'gate_input_value_0_10_2': gate_input_value_0_10_2,\n",
       " 'gate_output_value_0_10': gate_output_value_0_10,\n",
       " 'gate_input_value_1_10_0': gate_input_value_1_10_0,\n",
       " 'gate_input_value_1_10_1': gate_input_value_1_10_1,\n",
       " 'gate_input_value_1_10_2': gate_input_value_1_10_2,\n",
       " 'gate_output_value_1_10': gate_output_value_1_10,\n",
       " 'gate_input_value_2_10_0': gate_input_value_2_10_0,\n",
       " 'gate_input_value_2_10_1': gate_input_value_2_10_1,\n",
       " 'gate_input_value_2_10_2': gate_input_value_2_10_2,\n",
       " 'gate_output_value_2_10': gate_output_value_2_10,\n",
       " 'gate_input_value_3_10_0': gate_input_value_3_10_0,\n",
       " 'gate_input_value_3_10_1': gate_input_value_3_10_1,\n",
       " 'gate_input_value_3_10_2': gate_input_value_3_10_2,\n",
       " 'gate_output_value_3_10': gate_output_value_3_10,\n",
       " 'gate_input_value_4_10_0': gate_input_value_4_10_0,\n",
       " 'gate_input_value_4_10_1': gate_input_value_4_10_1,\n",
       " 'gate_input_value_4_10_2': gate_input_value_4_10_2,\n",
       " 'gate_output_value_4_10': gate_output_value_4_10,\n",
       " 'gate_input_value_5_10_0': gate_input_value_5_10_0,\n",
       " 'gate_input_value_5_10_1': gate_input_value_5_10_1,\n",
       " 'gate_input_value_5_10_2': gate_input_value_5_10_2,\n",
       " 'gate_output_value_5_10': gate_output_value_5_10,\n",
       " 'gate_input_value_6_10_0': gate_input_value_6_10_0,\n",
       " 'gate_input_value_6_10_1': gate_input_value_6_10_1,\n",
       " 'gate_input_value_6_10_2': gate_input_value_6_10_2,\n",
       " 'gate_output_value_6_10': gate_output_value_6_10,\n",
       " 'gate_input_value_7_10_0': gate_input_value_7_10_0,\n",
       " 'gate_input_value_7_10_1': gate_input_value_7_10_1,\n",
       " 'gate_input_value_7_10_2': gate_input_value_7_10_2,\n",
       " 'gate_output_value_7_10': gate_output_value_7_10,\n",
       " 'gate_input_value_8_10_0': gate_input_value_8_10_0,\n",
       " 'gate_input_value_8_10_1': gate_input_value_8_10_1,\n",
       " 'gate_input_value_8_10_2': gate_input_value_8_10_2,\n",
       " 'gate_output_value_8_10': gate_output_value_8_10,\n",
       " 'gate_input_value_9_10_0': gate_input_value_9_10_0,\n",
       " 'gate_input_value_9_10_1': gate_input_value_9_10_1,\n",
       " 'gate_input_value_9_10_2': gate_input_value_9_10_2,\n",
       " 'gate_output_value_9_10': gate_output_value_9_10,\n",
       " 'gate_input_value_10_10_0': gate_input_value_10_10_0,\n",
       " 'gate_input_value_10_10_1': gate_input_value_10_10_1,\n",
       " 'gate_input_value_10_10_2': gate_input_value_10_10_2,\n",
       " 'gate_output_value_10_10': gate_output_value_10_10,\n",
       " 'gate_input_value_11_10_0': gate_input_value_11_10_0,\n",
       " 'gate_input_value_11_10_1': gate_input_value_11_10_1,\n",
       " 'gate_input_value_11_10_2': gate_input_value_11_10_2,\n",
       " 'gate_output_value_11_10': gate_output_value_11_10,\n",
       " 'gate_input_value_12_10_0': gate_input_value_12_10_0,\n",
       " 'gate_input_value_12_10_1': gate_input_value_12_10_1,\n",
       " 'gate_input_value_12_10_2': gate_input_value_12_10_2,\n",
       " 'gate_output_value_12_10': gate_output_value_12_10,\n",
       " 'gate_input_value_13_10_0': gate_input_value_13_10_0,\n",
       " 'gate_input_value_13_10_1': gate_input_value_13_10_1,\n",
       " 'gate_input_value_13_10_2': gate_input_value_13_10_2,\n",
       " 'gate_output_value_13_10': gate_output_value_13_10,\n",
       " 'gate_input_value_14_10_0': gate_input_value_14_10_0,\n",
       " 'gate_input_value_14_10_1': gate_input_value_14_10_1,\n",
       " 'gate_input_value_14_10_2': gate_input_value_14_10_2,\n",
       " 'gate_output_value_14_10': gate_output_value_14_10,\n",
       " 'gate_input_value_15_10_0': gate_input_value_15_10_0,\n",
       " 'gate_input_value_15_10_1': gate_input_value_15_10_1,\n",
       " 'gate_input_value_15_10_2': gate_input_value_15_10_2,\n",
       " 'gate_output_value_15_10': gate_output_value_15_10}"
      ]
     },
     "execution_count": 55,
     "metadata": {},
     "output_type": "execute_result"
    }
   ],
   "source": [
    "variables"
   ]
  },
  {
   "cell_type": "code",
   "execution_count": null,
   "id": "taken-contribution",
   "metadata": {},
   "outputs": [],
   "source": [
    "max_complexity = 3\n",
    "MAJ = [0, 0, 0, 1, 0, 1, 1, 1]\n",
    "\n",
    "# число входов\n",
    "n = 3\n",
    "\n",
    "# функция\n",
    "f = BitVec('f', 8)\n",
    "\n",
    "# номера операндов вентилей - 3n\n",
    "in_indices = []\n",
    "\n",
    "# полярности операндов вентилей - 3n\n",
    "in_polarities = []\n",
    "\n",
    "# номера наборов входных переменных - 2 ** n\n",
    "ts = []\n",
    "\n",
    "# значения на входах каждого из вентилей - n * 3 * 2 ** n\n",
    "in_values = []\n",
    "\n",
    "# значения на выходах каждого из вентилей - n * 2 ** n\n",
    "out_values = []\n",
    "\n"
   ]
  },
  {
   "cell_type": "code",
   "execution_count": null,
   "id": "familiar-spoke",
   "metadata": {},
   "outputs": [],
   "source": []
  },
  {
   "cell_type": "code",
   "execution_count": 35,
   "id": "sitting-russian",
   "metadata": {},
   "outputs": [
    {
     "ename": "SyntaxError",
     "evalue": "invalid syntax (4131932102.py, line 22)",
     "output_type": "error",
     "traceback": [
      "\u001b[0;36m  Input \u001b[0;32mIn [35]\u001b[0;36m\u001b[0m\n\u001b[0;31m    solver.add(ss[0] < ss[1], ss[1] < ss[2])\u001b[0m\n\u001b[0m    ^\u001b[0m\n\u001b[0;31mSyntaxError\u001b[0m\u001b[0;31m:\u001b[0m invalid syntax\n"
     ]
    }
   ],
   "source": [
    "solver = Solver()\n",
    "s1.add(maj == BitVecVal(bitvec2int(MAJ), 8))\n",
    "\n",
    "\n",
    "for i in right_inclusive_range(n, n + max_complexity):\n",
    "    for\n",
    "    \n",
    "    ss = Ints(f's0{i} s1{i} s2{i}')\n",
    "    ps = BitVecs(f'p0{i} p1{i} p2{i}', 1)\n",
    "    \n",
    "    numbers.append(ss)\n",
    "    polarities.append(ps)\n",
    "    \n",
    "    for c in range(3):\n",
    "        # нет циклов\n",
    "        solver.add(ss[c] <= i)\n",
    "        \n",
    "        # номера операндов неотрицательны\n",
    "        solver.add(ss[c] >= 0)\n",
    "        \n",
    "    # (Оптимиз.) не более одного операнда инвертировано\n",
    "    solver.add(Or(ps[0], ps[1]), Or(ps[1], ps[2]), Or(ps[0], ps[2])\n",
    "               \n",
    "     # номера операндов упорядоченны\n",
    "    solver.add(ss[0] < ss[1], ss[1] < ss[2])\n",
    "    \n",
    "    bs = []\n",
    "    a_ss = []\n",
    "    for t in range(2 ** n):\n",
    "        b = BitVecs(f'b{t}_{i}', 1)\n",
    "        a_s = BitVecs(f'a{t}_1{i} a{t}_2{i} a{t}_3{i}', 1)\n",
    "        \n",
    "        bs.append(b)\n",
    "        a_ss.append(a_s)\n",
    "        \n",
    "        t_bitvec = int2bitvec(t)\n",
    "        \n",
    "        # функционирование элемента голосования\n",
    "        \n",
    "        solver.add((a_s[0] or a_s[1]) and (a_s[1] or a_s[2]) and (a_s[0] or a_s[2]))\n",
    "\n",
    "\n",
    "\n",
    "solver.check()\n",
    "solver.model()"
   ]
  },
  {
   "cell_type": "code",
   "execution_count": null,
   "id": "enormous-circulation",
   "metadata": {},
   "outputs": [],
   "source": [
    "solve(s)"
   ]
  },
  {
   "cell_type": "code",
   "execution_count": null,
   "id": "synthetic-watson",
   "metadata": {},
   "outputs": [],
   "source": [
    "\n",
    "basis = {MAJ}"
   ]
  },
  {
   "cell_type": "code",
   "execution_count": null,
   "id": "constant-compound",
   "metadata": {},
   "outputs": [],
   "source": [
    "evaluate_fun([1,0,0,0], [1,1])\n",
    "bitvec2int([1,0,1,1])"
   ]
  },
  {
   "cell_type": "code",
   "execution_count": null,
   "id": "random-light",
   "metadata": {},
   "outputs": [],
   "source": [
    "int2bitvec(8)"
   ]
  },
  {
   "cell_type": "code",
   "execution_count": 13,
   "id": "civilian-china",
   "metadata": {},
   "outputs": [
    {
     "data": {
      "text/plain": [
       "1"
      ]
     },
     "execution_count": 13,
     "metadata": {},
     "output_type": "execute_result"
    }
   ],
   "source": [
    "evaluate_fun([0, 0, 0, 1], [1, 1])"
   ]
  },
  {
   "cell_type": "code",
   "execution_count": 45,
   "id": "loaded-protein",
   "metadata": {},
   "outputs": [],
   "source": []
  },
  {
   "cell_type": "code",
   "execution_count": 46,
   "id": "ignored-stranger",
   "metadata": {},
   "outputs": [
    {
     "data": {
      "text/plain": [
       "2"
      ]
     },
     "execution_count": 46,
     "metadata": {},
     "output_type": "execute_result"
    }
   ],
   "source": []
  },
  {
   "cell_type": "code",
   "execution_count": 51,
   "id": "frozen-sugar",
   "metadata": {},
   "outputs": [
    {
     "ename": "NameError",
     "evalue": "name 'Function' is not defined",
     "output_type": "error",
     "traceback": [
      "\u001b[0;31m---------------------------------------------------------------------------\u001b[0m",
      "\u001b[0;31mNameError\u001b[0m                                 Traceback (most recent call last)",
      "Input \u001b[0;32mIn [51]\u001b[0m, in \u001b[0;36m<cell line: 1>\u001b[0;34m()\u001b[0m\n\u001b[0;32m----> 1\u001b[0m \u001b[43mFunction\u001b[49m\n",
      "\u001b[0;31mNameError\u001b[0m: name 'Function' is not defined"
     ]
    }
   ],
   "source": []
  },
  {
   "cell_type": "code",
   "execution_count": 60,
   "id": "bulgarian-antibody",
   "metadata": {},
   "outputs": [],
   "source": []
  },
  {
   "cell_type": "code",
   "execution_count": 61,
   "id": "natural-session",
   "metadata": {},
   "outputs": [
    {
     "data": {
      "text/plain": [
       "False"
      ]
     },
     "execution_count": 61,
     "metadata": {},
     "output_type": "execute_result"
    }
   ],
   "source": []
  },
  {
   "cell_type": "code",
   "execution_count": 30,
   "id": "structural-startup",
   "metadata": {},
   "outputs": [],
   "source": [
    "x, y, z, r = Bools('x y z r')\n",
    "s1 = Solver()\n",
    "\n",
    "MAJ = [0, 0, 0, 1, 0, 1, 1, 1]\n",
    "x = BitVec('x', 3)\n"
   ]
  },
  {
   "cell_type": "code",
   "execution_count": 31,
   "id": "addressed-savage",
   "metadata": {},
   "outputs": [
    {
     "data": {
      "text/html": [
       "<b>sat</b>"
      ],
      "text/plain": [
       "sat"
      ]
     },
     "execution_count": 31,
     "metadata": {},
     "output_type": "execute_result"
    }
   ],
   "source": [
    "s1.check()"
   ]
  },
  {
   "cell_type": "code",
   "execution_count": 32,
   "id": "blind-pregnancy",
   "metadata": {},
   "outputs": [
    {
     "data": {
      "text/html": [
       "[f = 232]"
      ],
      "text/plain": [
       "[f = 232]"
      ]
     },
     "execution_count": 32,
     "metadata": {},
     "output_type": "execute_result"
    }
   ],
   "source": [
    "s1.model()"
   ]
  },
  {
   "cell_type": "code",
   "execution_count": 33,
   "id": "finnish-cloud",
   "metadata": {},
   "outputs": [
    {
     "data": {
      "text/plain": [
       "[0, 0, 0, 1, 0, 1, 1, 1]"
      ]
     },
     "execution_count": 33,
     "metadata": {},
     "output_type": "execute_result"
    }
   ],
   "source": [
    "int2bitvec(232)"
   ]
  },
  {
   "cell_type": "code",
   "execution_count": 80,
   "id": "designing-equilibrium",
   "metadata": {},
   "outputs": [],
   "source": [
    "v1 = BitVec('v1', 1)\n",
    "v2 = BitVec('v2', 1)\n",
    "v3 = BitVec('v3', 1)\n",
    "\n",
    "f = BitVecVal(9, 8)"
   ]
  },
  {
   "cell_type": "code",
   "execution_count": 83,
   "id": "related-shirt",
   "metadata": {},
   "outputs": [
    {
     "ename": "Z3Exception",
     "evalue": "sort mismatch",
     "output_type": "error",
     "traceback": [
      "\u001b[0;31m---------------------------------------------------------------------------\u001b[0m",
      "\u001b[0;31mZ3Exception\u001b[0m                               Traceback (most recent call last)",
      "Input \u001b[0;32mIn [83]\u001b[0m, in \u001b[0;36m<cell line: 3>\u001b[0;34m()\u001b[0m\n\u001b[1;32m      1\u001b[0m i \u001b[38;5;241m=\u001b[39m BV2Int(Concat(v1, v2, v3))\n\u001b[1;32m      2\u001b[0m idx \u001b[38;5;241m=\u001b[39m Int(\u001b[38;5;124m'\u001b[39m\u001b[38;5;124midx\u001b[39m\u001b[38;5;124m'\u001b[39m)\n\u001b[0;32m----> 3\u001b[0m v4 \u001b[38;5;241m=\u001b[39m \u001b[43mf\u001b[49m\u001b[43m \u001b[49m\u001b[38;5;241;43m^\u001b[39;49m\u001b[43m \u001b[49m\u001b[43m(\u001b[49m\u001b[38;5;241;43m2\u001b[39;49m\u001b[43m \u001b[49m\u001b[38;5;241;43m*\u001b[39;49m\u001b[38;5;241;43m*\u001b[39;49m\u001b[43m \u001b[49m\u001b[43midx\u001b[49m\u001b[43m)\u001b[49m\n",
      "File \u001b[0;32m~/src/z3_sandbox/venv/lib/python3.9/site-packages/z3/z3.py:3601\u001b[0m, in \u001b[0;36mBitVecRef.__xor__\u001b[0;34m(self, other)\u001b[0m\n\u001b[1;32m   3591\u001b[0m \u001b[38;5;28;01mdef\u001b[39;00m \u001b[38;5;21m__xor__\u001b[39m(\u001b[38;5;28mself\u001b[39m, other):\n\u001b[1;32m   3592\u001b[0m     \u001b[38;5;124;03m\"\"\"Create the Z3 expression bitwise-xor `self ^ other`.\u001b[39;00m\n\u001b[1;32m   3593\u001b[0m \n\u001b[1;32m   3594\u001b[0m \u001b[38;5;124;03m    >>> x = BitVec('x', 32)\u001b[39;00m\n\u001b[0;32m   (...)\u001b[0m\n\u001b[1;32m   3599\u001b[0m \u001b[38;5;124;03m    BitVec(32)\u001b[39;00m\n\u001b[1;32m   3600\u001b[0m \u001b[38;5;124;03m    \"\"\"\u001b[39;00m\n\u001b[0;32m-> 3601\u001b[0m     a, b \u001b[38;5;241m=\u001b[39m \u001b[43m_coerce_exprs\u001b[49m\u001b[43m(\u001b[49m\u001b[38;5;28;43mself\u001b[39;49m\u001b[43m,\u001b[49m\u001b[43m \u001b[49m\u001b[43mother\u001b[49m\u001b[43m)\u001b[49m\n\u001b[1;32m   3602\u001b[0m     \u001b[38;5;28;01mreturn\u001b[39;00m BitVecRef(Z3_mk_bvxor(\u001b[38;5;28mself\u001b[39m\u001b[38;5;241m.\u001b[39mctx_ref(), a\u001b[38;5;241m.\u001b[39mas_ast(), b\u001b[38;5;241m.\u001b[39mas_ast()), \u001b[38;5;28mself\u001b[39m\u001b[38;5;241m.\u001b[39mctx)\n",
      "File \u001b[0;32m~/src/z3_sandbox/venv/lib/python3.9/site-packages/z3/z3.py:1187\u001b[0m, in \u001b[0;36m_coerce_exprs\u001b[0;34m(a, b, ctx)\u001b[0m\n\u001b[1;32m   1185\u001b[0m s \u001b[38;5;241m=\u001b[39m \u001b[38;5;28;01mNone\u001b[39;00m\n\u001b[1;32m   1186\u001b[0m s \u001b[38;5;241m=\u001b[39m _coerce_expr_merge(s, a)\n\u001b[0;32m-> 1187\u001b[0m s \u001b[38;5;241m=\u001b[39m \u001b[43m_coerce_expr_merge\u001b[49m\u001b[43m(\u001b[49m\u001b[43ms\u001b[49m\u001b[43m,\u001b[49m\u001b[43m \u001b[49m\u001b[43mb\u001b[49m\u001b[43m)\u001b[49m\n\u001b[1;32m   1188\u001b[0m a \u001b[38;5;241m=\u001b[39m s\u001b[38;5;241m.\u001b[39mcast(a)\n\u001b[1;32m   1189\u001b[0m b \u001b[38;5;241m=\u001b[39m s\u001b[38;5;241m.\u001b[39mcast(b)\n",
      "File \u001b[0;32m~/src/z3_sandbox/venv/lib/python3.9/site-packages/z3/z3.py:1172\u001b[0m, in \u001b[0;36m_coerce_expr_merge\u001b[0;34m(s, a)\u001b[0m\n\u001b[1;32m   1170\u001b[0m         \u001b[38;5;28;01mif\u001b[39;00m z3_debug():\n\u001b[1;32m   1171\u001b[0m             _z3_assert(s1\u001b[38;5;241m.\u001b[39mctx \u001b[38;5;241m==\u001b[39m s\u001b[38;5;241m.\u001b[39mctx, \u001b[38;5;124m\"\u001b[39m\u001b[38;5;124mcontext mismatch\u001b[39m\u001b[38;5;124m\"\u001b[39m)\n\u001b[0;32m-> 1172\u001b[0m             \u001b[43m_z3_assert\u001b[49m\u001b[43m(\u001b[49m\u001b[38;5;28;43;01mFalse\u001b[39;49;00m\u001b[43m,\u001b[49m\u001b[43m \u001b[49m\u001b[38;5;124;43m\"\u001b[39;49m\u001b[38;5;124;43msort mismatch\u001b[39;49m\u001b[38;5;124;43m\"\u001b[39;49m\u001b[43m)\u001b[49m\n\u001b[1;32m   1173\u001b[0m \u001b[38;5;28;01melse\u001b[39;00m:\n\u001b[1;32m   1174\u001b[0m     \u001b[38;5;28;01mreturn\u001b[39;00m s\n",
      "File \u001b[0;32m~/src/z3_sandbox/venv/lib/python3.9/site-packages/z3/z3.py:112\u001b[0m, in \u001b[0;36m_z3_assert\u001b[0;34m(cond, msg)\u001b[0m\n\u001b[1;32m    110\u001b[0m \u001b[38;5;28;01mdef\u001b[39;00m \u001b[38;5;21m_z3_assert\u001b[39m(cond, msg):\n\u001b[1;32m    111\u001b[0m     \u001b[38;5;28;01mif\u001b[39;00m \u001b[38;5;129;01mnot\u001b[39;00m cond:\n\u001b[0;32m--> 112\u001b[0m         \u001b[38;5;28;01mraise\u001b[39;00m Z3Exception(msg)\n",
      "\u001b[0;31mZ3Exception\u001b[0m: sort mismatch"
     ]
    }
   ],
   "source": [
    "i = BV2Int(Concat(v1, v2, v3))\n",
    "idx = Int('idx')\n",
    "v4 = f ^ (2 ** idx)"
   ]
  },
  {
   "cell_type": "markdown",
   "id": "powered-rehabilitation",
   "metadata": {},
   "source": [
    "v4"
   ]
  },
  {
   "cell_type": "code",
   "execution_count": 63,
   "id": "concerned-ground",
   "metadata": {},
   "outputs": [
    {
     "data": {
      "text/html": [
       "BV2Int(Concat(Concat(v1, v2), v3))"
      ],
      "text/plain": [
       "BV2Int(Concat(Concat(v1, v2), v3))"
      ]
     },
     "execution_count": 63,
     "metadata": {},
     "output_type": "execute_result"
    }
   ],
   "source": [
    "v4"
   ]
  },
  {
   "cell_type": "code",
   "execution_count": null,
   "id": "interpreted-willow",
   "metadata": {},
   "outputs": [],
   "source": []
  }
 ],
 "metadata": {
  "kernelspec": {
   "display_name": "z3",
   "language": "python",
   "name": "z3"
  },
  "language_info": {
   "codemirror_mode": {
    "name": "ipython",
    "version": 3
   },
   "file_extension": ".py",
   "mimetype": "text/x-python",
   "name": "python",
   "nbconvert_exporter": "python",
   "pygments_lexer": "ipython3",
   "version": "3.9.2"
  }
 },
 "nbformat": 4,
 "nbformat_minor": 5
}
