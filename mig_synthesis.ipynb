{
 "cells": [
  {
   "cell_type": "code",
   "execution_count": 1,
   "id": "d3185331",
   "metadata": {},
   "outputs": [],
   "source": [
    "from z3 import Int, Bool, Ints, Bools, Solver, Or, Not, And, BV2Int, BitVec, BitVecs, BitVecVal, BitVec, Concat, Extract, IntVal, Implies\n",
    "from typing import List"
   ]
  },
  {
   "cell_type": "code",
   "execution_count": null,
   "id": "0662fb0f",
   "metadata": {},
   "outputs": [],
   "source": []
  },
  {
   "cell_type": "code",
   "execution_count": 2,
   "id": "c6240f82",
   "metadata": {},
   "outputs": [],
   "source": [
    "## Useful stuff from intel_altera\n",
    "def vector_to_int(vector):\n",
    "    result = 0\n",
    "    for i, x in enumerate(vector):\n",
    "        result += x * (2 ** i)\n",
    "    return result\n",
    "\n",
    "\n",
    "def int_to_vector(x, vector_dim):\n",
    "    result = []\n",
    "    for _ in range(vector_dim):\n",
    "        result.append(x & 1)\n",
    "        x >>= 1\n",
    "    return result"
   ]
  },
  {
   "cell_type": "code",
   "execution_count": 3,
   "id": "6aeb1ebe",
   "metadata": {},
   "outputs": [],
   "source": [
    "## Important cell do not remove\n",
    "\n",
    "def bool2int(x: bool) -> int:\n",
    "    return x # 1 if x else 0\n",
    "\n",
    "\n",
    "def bitvec2int(bitvec : List[bool]) -> int:\n",
    "    result = 0\n",
    "    for i, xi in enumerate(bitvec):\n",
    "        xi = bool2int(xi)\n",
    "        result += xi * (2 ** i)\n",
    "    return result\n",
    "\n",
    "\n",
    "def int2bitvec(n : int, i : int) -> List[bool]:\n",
    "    result = []\n",
    "    for _ in range(n):\n",
    "        if (i > 0):\n",
    "            result.append(i & 1)\n",
    "            i >>= 1\n",
    "        else:\n",
    "            result.append(0)\n",
    "    return result\n",
    "\n",
    "\n",
    "\"\"\"\n",
    "f - битовый вектор длины 2 ** n\n",
    "x - битовый вектор длины n\n",
    "\"\"\"\n",
    "def evaluate_fun(f: List[bool], x: List[bool]) -> bool:\n",
    "    n = len(x)\n",
    "    if (len(f) != 2 ** n):\n",
    "        raise Exception(\"Bad arguments\")\n",
    "    x = bitvec2int(x)\n",
    "    return f[x]\n",
    "\n",
    "def z3_evaluate_fun(f, x):\n",
    "    return f[BV2Int(x)]"
   ]
  },
  {
   "cell_type": "code",
   "execution_count": 4,
   "id": "aed3f42d",
   "metadata": {},
   "outputs": [],
   "source": [
    "def right_inclusive_range(start, end):\n",
    "    return range(start + 1, end + 1)\n",
    "\n",
    "def create_bitvec(name, bitlength):\n",
    "    global_vars[name] = BitVec(name, bitlength)\n",
    "    \n",
    "def create_int(name):\n",
    "    global_vars[name] = Int(name)\n",
    "    \n",
    "def add_assert(*asserts):\n",
    "    for a in asserts:\n",
    "        global_asserts.append(a)"
   ]
  },
  {
   "cell_type": "code",
   "execution_count": 5,
   "id": "fe21ace0",
   "metadata": {},
   "outputs": [],
   "source": [
    "complexity = 1\n",
    "\n",
    "global_vars = {}\n",
    "global_asserts = []\n",
    "\n",
    "# majority function\n",
    "majority_bitvector = 232\n",
    "\n",
    "\n",
    "# gate function\n",
    "gate_bitvector = majority_bitvector\n",
    "gate_arity = 3\n",
    "gate_bitlength = 2 ** gate_arity   # 8\n",
    "\n",
    "global_vars['gate'] = BitVec('gate', gate_bitlength)\n",
    "global_vars['gate_value'] = BitVecVal(gate_bitvector, gate_bitlength)\n",
    "\n",
    "\n",
    "# synthesized function\n",
    "f_bitvector = 232\n",
    "f_arity = 3\n",
    "f_bitlength = 2 ** f_arity\n",
    "\n",
    "# global_vars['f'] = BitVec('f', f_bitlength)\n",
    "global_vars['f'] = BitVecVal(f_bitvector, f_bitlength)\n",
    "\n",
    "create_bitvec('output_polarity', 1)\n",
    "\n",
    "for gate in right_inclusive_range(f_arity, f_arity + complexity):\n",
    "    for gate_input in right_inclusive_range(0, gate_arity):\n",
    "        create_bitvec(f'gate_input_polarity_{gate}_{gate_input}', 1)\n",
    "        create_int(f'gate_input_number_{gate}_{gate_input}')\n",
    "\n",
    "for f_input_value in range(f_bitlength):\n",
    "    # bt0 = 0\n",
    "    create_bitvec(f'gate_output_value_{f_input_value}_0', 1)\n",
    "    \n",
    "    # bti - f input values (xi, 1 <= i <= n - f inputs)\n",
    "    for gate in right_inclusive_range(0, f_arity):\n",
    "        create_bitvec(f'gate_output_value_{f_input_value}_{gate}', 1)\n",
    "    \n",
    "    for gate in right_inclusive_range(f_arity, f_arity + complexity):\n",
    "        # bti - gate output values (xi, n < i <= n + r - gates)\n",
    "        create_bitvec(f'gate_output_value_{f_input_value}_{gate}', 1)\n",
    "        \n",
    "        # atic - gate input values\n",
    "        for gate_input in right_inclusive_range(0, gate_arity):\n",
    "            create_bitvec(f'gate_input_value_{f_input_value}_{gate}_{gate_input}', 1)\n",
    "    \n"
   ]
  },
  {
   "cell_type": "code",
   "execution_count": 6,
   "id": "8a7f56c3",
   "metadata": {},
   "outputs": [],
   "source": [
    "# sorted(global_vars.items())"
   ]
  },
  {
   "cell_type": "code",
   "execution_count": 7,
   "id": "e76b62ba",
   "metadata": {},
   "outputs": [],
   "source": [
    "for gate in right_inclusive_range(f_arity, f_arity + complexity):\n",
    "    for gate_input in right_inclusive_range(0, gate_arity):        \n",
    "        s = global_vars[f'gate_input_number_{gate}_{gate_input}']\n",
    "        \n",
    "        # нет циклов\n",
    "        add_assert(s < gate)\n",
    "\n",
    "        # номера операндов неотрицательны\n",
    "        add_assert(s > 0)\n",
    "   \n",
    "\n",
    "    # TODO: generalize\n",
    "    # номера операндов упорядоченны\n",
    "    s1 = global_vars[f'gate_input_number_{gate}_1']\n",
    "    s2 = global_vars[f'gate_input_number_{gate}_2']\n",
    "    s3 = global_vars[f'gate_input_number_{gate}_3']\n",
    "    \n",
    "    add_assert(s1 < s2, s2 < s3)\n",
    "    \n",
    "    \n",
    "    # TODO: generalize\n",
    "    # (Оптимиз.) не более одного операнда инвертировано\n",
    "    p1 = global_vars[f'gate_input_polarity_{gate}_1']\n",
    "    p2 = global_vars[f'gate_input_polarity_{gate}_2']\n",
    "    p3 = global_vars[f'gate_input_polarity_{gate}_3']\n",
    "    \n",
    "    add_assert(((p1 | p2) & (p2 | p3) & (p1 | p3)) == 1)\n",
    "    \n",
    "    # TODO: убрать\n",
    "    # add_assert(p1 == 1, p2 == 1, p3 == 1)\n",
    "    \n",
    "\n",
    "for f_input_value in range(f_bitlength):\n",
    "    bt0 = global_vars[f'gate_output_value_{f_input_value}_0']\n",
    "    add_assert(bt0 == 0)\n",
    "    \n",
    "    bt_out = global_vars[f'gate_output_value_{f_input_value}_{f_arity + complexity}']\n",
    "    p_out = global_vars['output_polarity']\n",
    "    f = global_vars['f']\n",
    "    i = f_input_value\n",
    "    \n",
    "    add_assert(bt_out == ~p_out + Extract(i, i, f))\n",
    "    \n",
    "    # выходы bi элементов xi, 1 <= i <= f_arity === входы функции f\n",
    "    for gate in right_inclusive_range(0, f_arity):\n",
    "        xti = global_vars[f'gate_output_value_{f_input_value}_{gate}']\n",
    "        add_assert(xti == int2bitvec(f_arity, f_input_value)[gate - 1])\n",
    "    \n",
    "    for gate in right_inclusive_range(f_arity, f_arity + complexity):\n",
    "        # TODO: generalize\n",
    "        a1 = global_vars[f'gate_input_value_{f_input_value}_{gate}_1']\n",
    "        a2 = global_vars[f'gate_input_value_{f_input_value}_{gate}_2']\n",
    "        a3 = global_vars[f'gate_input_value_{f_input_value}_{gate}_3']\n",
    "        \n",
    "        b = global_vars[f'gate_output_value_{f_input_value}_{gate}']\n",
    "        add_assert(b == ((a1 | a2) & (a1 | a3) & (a2 | a3)))\n",
    "\n",
    "        for gate_input in right_inclusive_range(0, gate_arity):\n",
    "            a = global_vars[f'gate_input_value_{f_input_value}_{gate}_{gate_input}']\n",
    "            p = global_vars[f'gate_input_polarity_{gate}_{gate_input}']\n",
    "            s = global_vars[f'gate_input_number_{gate}_{gate_input}']\n",
    "            \n",
    "            for j in range(1, gate):\n",
    "                b = global_vars[f'gate_output_value_{f_input_value}_{j}']\n",
    "                add_assert(Implies(s == j, a == b + ~p))\n",
    "            "
   ]
  },
  {
   "cell_type": "code",
   "execution_count": 8,
   "id": "10dffdb3",
   "metadata": {},
   "outputs": [
    {
     "data": {
      "text/html": [
       "<b>sat</b>"
      ],
      "text/plain": [
       "sat"
      ]
     },
     "execution_count": 8,
     "metadata": {},
     "output_type": "execute_result"
    }
   ],
   "source": [
    "s = Solver()\n",
    "s.add([i for i in global_asserts])\n",
    "s.check()"
   ]
  },
  {
   "cell_type": "code",
   "execution_count": 9,
   "id": "d659e5a0",
   "metadata": {},
   "outputs": [
    {
     "data": {
      "text/plain": [
       "[('gate_input_number_4_1', 1),\n",
       " ('gate_input_number_4_2', 2),\n",
       " ('gate_input_number_4_3', 3),\n",
       " ('gate_input_polarity_4_1', 1),\n",
       " ('gate_input_polarity_4_2', 1),\n",
       " ('gate_input_polarity_4_3', 1),\n",
       " ('gate_input_value_0_4_1', 0),\n",
       " ('gate_input_value_0_4_2', 0),\n",
       " ('gate_input_value_0_4_3', 0),\n",
       " ('gate_input_value_1_4_1', 1),\n",
       " ('gate_input_value_1_4_2', 0),\n",
       " ('gate_input_value_1_4_3', 0),\n",
       " ('gate_input_value_2_4_1', 0),\n",
       " ('gate_input_value_2_4_2', 1),\n",
       " ('gate_input_value_2_4_3', 0),\n",
       " ('gate_input_value_3_4_1', 1),\n",
       " ('gate_input_value_3_4_2', 1),\n",
       " ('gate_input_value_3_4_3', 0),\n",
       " ('gate_input_value_4_4_1', 0),\n",
       " ('gate_input_value_4_4_2', 0),\n",
       " ('gate_input_value_4_4_3', 1),\n",
       " ('gate_input_value_5_4_1', 1),\n",
       " ('gate_input_value_5_4_2', 0),\n",
       " ('gate_input_value_5_4_3', 1),\n",
       " ('gate_input_value_6_4_1', 0),\n",
       " ('gate_input_value_6_4_2', 1),\n",
       " ('gate_input_value_6_4_3', 1),\n",
       " ('gate_input_value_7_4_1', 1),\n",
       " ('gate_input_value_7_4_2', 1),\n",
       " ('gate_input_value_7_4_3', 1),\n",
       " ('gate_output_value_0_0', 0),\n",
       " ('gate_output_value_0_1', 0),\n",
       " ('gate_output_value_0_2', 0),\n",
       " ('gate_output_value_0_3', 0),\n",
       " ('gate_output_value_0_4', 0),\n",
       " ('gate_output_value_1_0', 0),\n",
       " ('gate_output_value_1_1', 1),\n",
       " ('gate_output_value_1_2', 0),\n",
       " ('gate_output_value_1_3', 0),\n",
       " ('gate_output_value_1_4', 0),\n",
       " ('gate_output_value_2_0', 0),\n",
       " ('gate_output_value_2_1', 0),\n",
       " ('gate_output_value_2_2', 1),\n",
       " ('gate_output_value_2_3', 0),\n",
       " ('gate_output_value_2_4', 0),\n",
       " ('gate_output_value_3_0', 0),\n",
       " ('gate_output_value_3_1', 1),\n",
       " ('gate_output_value_3_2', 1),\n",
       " ('gate_output_value_3_3', 0),\n",
       " ('gate_output_value_3_4', 1),\n",
       " ('gate_output_value_4_0', 0),\n",
       " ('gate_output_value_4_1', 0),\n",
       " ('gate_output_value_4_2', 0),\n",
       " ('gate_output_value_4_3', 1),\n",
       " ('gate_output_value_4_4', 0),\n",
       " ('gate_output_value_5_0', 0),\n",
       " ('gate_output_value_5_1', 1),\n",
       " ('gate_output_value_5_2', 0),\n",
       " ('gate_output_value_5_3', 1),\n",
       " ('gate_output_value_5_4', 1),\n",
       " ('gate_output_value_6_0', 0),\n",
       " ('gate_output_value_6_1', 0),\n",
       " ('gate_output_value_6_2', 1),\n",
       " ('gate_output_value_6_3', 1),\n",
       " ('gate_output_value_6_4', 1),\n",
       " ('gate_output_value_7_0', 0),\n",
       " ('gate_output_value_7_1', 1),\n",
       " ('gate_output_value_7_2', 1),\n",
       " ('gate_output_value_7_3', 1),\n",
       " ('gate_output_value_7_4', 1),\n",
       " ('output_polarity', 1)]"
      ]
     },
     "execution_count": 9,
     "metadata": {},
     "output_type": "execute_result"
    }
   ],
   "source": [
    "model = s.model()\n",
    "d = {i.name() : model.get_interp(i) for i in model}\n",
    "sorted(d.items())"
   ]
  },
  {
   "cell_type": "code",
   "execution_count": 10,
   "id": "be083a3c",
   "metadata": {},
   "outputs": [],
   "source": [
    "import re\n",
    "\n",
    "gate_output_pattern = re.compile(r'gate_output_value_(?P<f_input_value>[0-9]+?)_(?P<gate>[0-9]+?)')\n",
    "gate_input_pattern = re.compile(r'gate_input_value_(?P<f_input_value>[0-9]+)_(?P<gate>[0-9]+)_(?P<gate_input>[0-9]+)')\n",
    "table = { 'raw_input_1' : [], 'raw_input_2' : [], 'raw_input_3' : [], 'p_input_1' : [], 'p_input_2' : [], 'p_input_3' : [], 'output' : []}\n",
    "for name, value in sorted(d.items()):\n",
    "\n",
    "    m = gate_input_pattern.match(name)\n",
    "#    print(m)\n",
    "    if not m is None:\n",
    "        f_input_value = int(m.group('f_input_value'))      \n",
    "        gate = int(m.group('gate'))\n",
    "        gate_input = int(m.group('gate_input'))\n",
    "        table[f'p_input_{gate_input}'].append(value)\n",
    "\n",
    "    \n",
    "    \n",
    "    m = gate_output_pattern.match(name)\n",
    "#    print(m)\n",
    "    if not m is None:\n",
    "        f_input_value = f_input_value = int(m.group('f_input_value'))\n",
    "        gate = int(m.group('gate'))\n",
    "        if gate == 4:\n",
    "            table['output'].append(value)\n",
    "        elif gate >= 1 and gate <= 3:\n",
    "            table[f'raw_input_{gate}'].append(value)\n",
    "\n",
    "    "
   ]
  },
  {
   "cell_type": "code",
   "execution_count": 11,
   "id": "0fba872e",
   "metadata": {},
   "outputs": [
    {
     "data": {
      "text/plain": [
       "{'raw_input_1': [0, 1, 0, 1, 0, 1, 0, 1],\n",
       " 'raw_input_2': [0, 0, 1, 1, 0, 0, 1, 1],\n",
       " 'raw_input_3': [0, 0, 0, 0, 1, 1, 1, 1],\n",
       " 'p_input_1': [0, 1, 0, 1, 0, 1, 0, 1],\n",
       " 'p_input_2': [0, 0, 1, 1, 0, 0, 1, 1],\n",
       " 'p_input_3': [0, 0, 0, 0, 1, 1, 1, 1],\n",
       " 'output': [0, 0, 0, 1, 0, 1, 1, 1]}"
      ]
     },
     "execution_count": 11,
     "metadata": {},
     "output_type": "execute_result"
    }
   ],
   "source": [
    "table"
   ]
  },
  {
   "cell_type": "code",
   "execution_count": 12,
   "id": "0ea69acd",
   "metadata": {},
   "outputs": [
    {
     "data": {
      "text/html": [
       "<b>sat</b>"
      ],
      "text/plain": [
       "sat"
      ]
     },
     "execution_count": 12,
     "metadata": {},
     "output_type": "execute_result"
    }
   ],
   "source": [
    "s1 = Solver()\n",
    "x = BitVec('x', 8)\n",
    "s1.add(x == bitvec2int([0, 0, 0, 1, 0, 1, 1, 1]))\n",
    "s1.check()"
   ]
  },
  {
   "cell_type": "code",
   "execution_count": 13,
   "id": "846a5461",
   "metadata": {},
   "outputs": [
    {
     "data": {
      "text/html": [
       "[x = 232]"
      ],
      "text/plain": [
       "[x = 232]"
      ]
     },
     "execution_count": 13,
     "metadata": {},
     "output_type": "execute_result"
    }
   ],
   "source": [
    "s1.model()"
   ]
  },
  {
   "cell_type": "code",
   "execution_count": 14,
   "id": "524cf60f",
   "metadata": {},
   "outputs": [
    {
     "data": {
      "text/plain": [
       "232"
      ]
     },
     "execution_count": 14,
     "metadata": {},
     "output_type": "execute_result"
    }
   ],
   "source": [
    "bitvec2int([0, 0, 0, 1, 0, 1, 1, 1])"
   ]
  },
  {
   "cell_type": "code",
   "execution_count": 15,
   "id": "9d681fee",
   "metadata": {},
   "outputs": [
    {
     "data": {
      "text/plain": [
       "[1, 1, 1, 0, 1, 0, 0, 0]"
      ]
     },
     "execution_count": 15,
     "metadata": {},
     "output_type": "execute_result"
    }
   ],
   "source": [
    "int2bitvec(8, 23)"
   ]
  },
  {
   "cell_type": "code",
   "execution_count": null,
   "id": "99810b5a",
   "metadata": {},
   "outputs": [],
   "source": []
  }
 ],
 "metadata": {
  "kernelspec": {
   "display_name": "ig_exact_synthesis",
   "language": "python",
   "name": "ig_exact_synthesis"
  },
  "language_info": {
   "codemirror_mode": {
    "name": "ipython",
    "version": 3
   },
   "file_extension": ".py",
   "mimetype": "text/x-python",
   "name": "python",
   "nbconvert_exporter": "python",
   "pygments_lexer": "ipython3",
   "version": "3.8.10"
  }
 },
 "nbformat": 4,
 "nbformat_minor": 5
}
